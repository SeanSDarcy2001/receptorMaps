{
  "nbformat": 4,
  "nbformat_minor": 0,
  "metadata": {
    "colab": {
      "provenance": [],
      "authorship_tag": "ABX9TyMbuRPwguDqVFMXNTjw8QdX",
      "include_colab_link": true
    },
    "kernelspec": {
      "name": "python3",
      "display_name": "Python 3"
    },
    "language_info": {
      "name": "python"
    }
  },
  "cells": [
    {
      "cell_type": "markdown",
      "metadata": {
        "id": "view-in-github",
        "colab_type": "text"
      },
      "source": [
        "<a href=\"https://colab.research.google.com/github/SeanSDarcy2001/receptorMaps/blob/main/music/CPCR_inSessionPlaylistExtraction.ipynb\" target=\"_parent\"><img src=\"https://colab.research.google.com/assets/colab-badge.svg\" alt=\"Open In Colab\"/></a>"
      ]
    },
    {
      "cell_type": "markdown",
      "source": [
        "Imports and API token definition, filePaths"
      ],
      "metadata": {
        "id": "1qO6U4ChR3wd"
      }
    },
    {
      "cell_type": "code",
      "source": [
        "import requests\n",
        "token = '8d82e2526a6ba551baf35b5f6146aa2e'"
      ],
      "metadata": {
        "id": "YiAtT4PKSBJb"
      },
      "execution_count": 4,
      "outputs": []
    },
    {
      "cell_type": "code",
      "source": [
        "from google.colab import drive\n",
        "drive.mount('gdrive/')\n",
        "datapath = \"gdrive/My Drive/deepLearning/HW2_Q3_dataset/Q3_data.npz\"\n",
        "\n",
        "with open('report.xls', 'rb') as f:\n",
        "    r = requests.post('http://httpbin.org/post', files={'report.xls': f})"
      ],
      "metadata": {
        "id": "outQch5LnLx-"
      },
      "execution_count": null,
      "outputs": []
    },
    {
      "cell_type": "markdown",
      "source": [
        "Short audio file"
      ],
      "metadata": {
        "id": "du32DI5oRtuG"
      }
    },
    {
      "cell_type": "code",
      "execution_count": 3,
      "metadata": {
        "colab": {
          "base_uri": "https://localhost:8080/"
        },
        "id": "meIQxPAFQ9oI",
        "outputId": "75a7bfc6-dec4-4a5a-e390-c9f3525dd3d7"
      },
      "outputs": [
        {
          "output_type": "stream",
          "name": "stdout",
          "text": [
            "{\"status\":\"error\",\"error\":{\"error_code\":600,\"error_message\":\"Recognition failed: incorrect audio URL.\"},\"request_params\":{\"api_token\":\"8***e\",\"url\":\"https://drive.google.com/drive/u/0/folders/1yxkIDLmBa6WXAg4lPuTYFesTG6nMGy6a\",\"return\":\"apple_music,spotify\"},\"request_api_method\":\"recognize\",\"request_http_method\":\"POST\",\"see api documentation\":\"https://docs.audd.io\",\"contact us\":\"api@audd.io\"}\n"
          ]
        }
      ],
      "source": [
        "import requests\n",
        "data = {\n",
        "    'api_token': token,\n",
        "    'url': 'https://drive.google.com/drive/u/0/folders/1yxkIDLmBa6WXAg4lPuTYFesTG6nMGy6a',\n",
        "    'return': 'apple_music,spotify',\n",
        "}\n",
        "result = requests.post('https://api.audd.io/', data=data)\n",
        "print(result.text)"
      ]
    },
    {
      "cell_type": "markdown",
      "source": [
        "Longer audio file/video"
      ],
      "metadata": {
        "id": "ILoGuaYERx9k"
      }
    },
    {
      "cell_type": "code",
      "source": [
        "data = {\n",
        "    'api_token': token,\n",
        "    'url': 'https://drive.google.com/drive/u/0/folders/1yxkIDLmBa6WXAg4lPuTYFesTG6nMGy6a',\n",
        "    'accurate_offsets': 'true',\n",
        "    'skip': '5',\n",
        "    'every': '1',\n",
        "}\n",
        "result = requests.post('https://enterprise.audd.io/', data=data)\n",
        "print(result.text)"
      ],
      "metadata": {
        "id": "Ca1WzmXzRpRX",
        "colab": {
          "base_uri": "https://localhost:8080/"
        },
        "outputId": "2580a31b-0601-4ca1-8217-467552b211a0"
      },
      "execution_count": 5,
      "outputs": [
        {
          "output_type": "stream",
          "name": "stdout",
          "text": [
            "{\"status\":\"error\",\"error\":{\"error_code\":904,\"error_message\":\"Music Recognition by URL on the enterprise endpoint is available only for paid users. Please try sending a file instead of the URL or subscribe to one of the plans.\"},\"requested_params\":{\"url\":\"https://drive.google.com/drive/u/0/folders/1yxkIDLmBa6WXAg4lPuTYFesTG6nMGy6a\",\"accurate_offsets\":\"true\",\"skip\":\"5\",\"method\":\"recognize\",\"every\":\"1\"},\"see api documentation\":\"https://docs.audd.io\",\"contact us\":\"api@audd.io\",\"execution_time\":\"19.328298ms\"}\n"
          ]
        }
      ]
    }
  ]
}