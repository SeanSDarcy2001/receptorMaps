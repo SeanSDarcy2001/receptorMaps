{
  "nbformat": 4,
  "nbformat_minor": 0,
  "metadata": {
    "colab": {
      "provenance": [],
      "authorship_tag": "ABX9TyN4TZx5ANIv4k3/lvgRYGnO",
      "include_colab_link": true
    },
    "kernelspec": {
      "name": "python3",
      "display_name": "Python 3"
    },
    "language_info": {
      "name": "python"
    }
  },
  "cells": [
    {
      "cell_type": "markdown",
      "metadata": {
        "id": "view-in-github",
        "colab_type": "text"
      },
      "source": [
        "<a href=\"https://colab.research.google.com/github/SeanSDarcy2001/receptorMaps/blob/main/music/CPCR_inSessionPlaylistExtraction.ipynb\" target=\"_parent\"><img src=\"https://colab.research.google.com/assets/colab-badge.svg\" alt=\"Open In Colab\"/></a>"
      ]
    },
    {
      "cell_type": "markdown",
      "source": [
        "Imports and API token definition, filePaths"
      ],
      "metadata": {
        "id": "1qO6U4ChR3wd"
      }
    },
    {
      "cell_type": "code",
      "source": [
        "import requests\n",
        "token = '8d82e2526a6ba551baf35b5f6146aa2e'"
      ],
      "metadata": {
        "id": "YiAtT4PKSBJb"
      },
      "execution_count": 1,
      "outputs": []
    },
    {
      "cell_type": "code",
      "source": [
        "from google.colab import drive\n",
        "drive.mount('/content/drive')"
      ],
      "metadata": {
        "id": "ZI0mpHp9ECCZ",
        "outputId": "99f1ca13-af2a-4a3a-8980-1758ff225512",
        "colab": {
          "base_uri": "https://localhost:8080/"
        }
      },
      "execution_count": 2,
      "outputs": [
        {
          "output_type": "stream",
          "name": "stdout",
          "text": [
            "Drive already mounted at /content/drive; to attempt to forcibly remount, call drive.mount(\"/content/drive\", force_remount=True).\n"
          ]
        }
      ]
    },
    {
      "cell_type": "code",
      "source": [
        "datapath = \"/content/drive/My Drive/CPCRmusic/audioTest.wav\""
      ],
      "metadata": {
        "id": "outQch5LnLx-"
      },
      "execution_count": 3,
      "outputs": []
    },
    {
      "cell_type": "markdown",
      "source": [
        "Short audio file"
      ],
      "metadata": {
        "id": "du32DI5oRtuG"
      }
    },
    {
      "cell_type": "code",
      "execution_count": null,
      "metadata": {
        "colab": {
          "base_uri": "https://localhost:8080/"
        },
        "id": "meIQxPAFQ9oI",
        "outputId": "75a7bfc6-dec4-4a5a-e390-c9f3525dd3d7"
      },
      "outputs": [
        {
          "output_type": "stream",
          "name": "stdout",
          "text": [
            "{\"status\":\"error\",\"error\":{\"error_code\":600,\"error_message\":\"Recognition failed: incorrect audio URL.\"},\"request_params\":{\"api_token\":\"8***e\",\"url\":\"https://drive.google.com/drive/u/0/folders/1yxkIDLmBa6WXAg4lPuTYFesTG6nMGy6a\",\"return\":\"apple_music,spotify\"},\"request_api_method\":\"recognize\",\"request_http_method\":\"POST\",\"see api documentation\":\"https://docs.audd.io\",\"contact us\":\"api@audd.io\"}\n"
          ]
        }
      ],
      "source": [
        "import requests\n",
        "data = {\n",
        "    'api_token': token,\n",
        "    'url': 'https://drive.google.com/drive/u/0/folders/1yxkIDLmBa6WXAg4lPuTYFesTG6nMGy6a',\n",
        "    'return': 'apple_music,spotify',\n",
        "}\n",
        "result = requests.post('https://api.audd.io/', data=data)\n",
        "print(result.text)"
      ]
    },
    {
      "cell_type": "markdown",
      "source": [
        "Longer audio file/video"
      ],
      "metadata": {
        "id": "ILoGuaYERx9k"
      }
    },
    {
      "cell_type": "code",
      "source": [
        "with open(datapath, 'rb') as f:\n",
        "\n",
        "  data = {\n",
        "      'api_token': token,\n",
        "      'file': f.read(),\n",
        "      'accurate_offsets': 'true',\n",
        "      'skip': '5',\n",
        "      'every': '1',\n",
        "  }\n",
        "result = requests.post('https://enterprise.audd.io/', data=data)\n",
        "print(result.text)"
      ],
      "metadata": {
        "id": "Ca1WzmXzRpRX",
        "colab": {
          "base_uri": "https://localhost:8080/"
        },
        "outputId": "35caa7dd-a065-4187-d149-eccd950ad4fd"
      },
      "execution_count": 4,
      "outputs": [
        {
          "output_type": "stream",
          "name": "stdout",
          "text": [
            "{\"status\":\"error\",\"error\":{\"error_code\":700,\"error_message\":\"Recognition failed: you didn't send file via POST or file url as `url` param.\"},\"requested_params\":{\"method\":\"recognize\"},\"see api documentation\":\"https://docs.audd.io\",\"contact us\":\"api@audd.io\",\"execution_time\":\"59.415163983s\"}\n"
          ]
        }
      ]
    }
  ]
}