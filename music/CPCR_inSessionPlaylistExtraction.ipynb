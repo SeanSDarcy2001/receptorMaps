{
  "nbformat": 4,
  "nbformat_minor": 0,
  "metadata": {
    "colab": {
      "provenance": [],
      "include_colab_link": true
    },
    "kernelspec": {
      "name": "python3",
      "display_name": "Python 3"
    },
    "language_info": {
      "name": "python"
    }
  },
  "cells": [
    {
      "cell_type": "markdown",
      "metadata": {
        "id": "view-in-github",
        "colab_type": "text"
      },
      "source": [
        "<a href=\"https://colab.research.google.com/github/SeanSDarcy2001/receptorMaps/blob/main/music/CPCR_inSessionPlaylistExtraction.ipynb\" target=\"_parent\"><img src=\"https://colab.research.google.com/assets/colab-badge.svg\" alt=\"Open In Colab\"/></a>"
      ]
    },
    {
      "cell_type": "markdown",
      "source": [
        "Imports and API token definition, filePaths"
      ],
      "metadata": {
        "id": "1qO6U4ChR3wd"
      }
    },
    {
      "cell_type": "code",
      "source": [
        "import requests\n",
        "token = '52a090299a03ca35e876838f2f48335e'\n",
        "path = 'data/audioTest.wav'"
      ],
      "metadata": {
        "id": "YiAtT4PKSBJb"
      },
      "execution_count": 51,
      "outputs": []
    },
    {
      "cell_type": "markdown",
      "source": [
        "Longer audio file/video"
      ],
      "metadata": {
        "id": "ILoGuaYERx9k"
      }
    },
    {
      "cell_type": "code",
      "source": [
        "data = {\n",
        "      'api_token': token,\n",
        "      'accurate_offsets': 'true',\n",
        "      'skip': '3',\n",
        "      'every': '1',\n",
        "  }\n",
        "files = {\n",
        "    'file': open(path, 'rb'),\n",
        "}\n",
        "print(\"Running music recognition...\")\n",
        "result = requests.post('https://enterprise.audd.io/', data=data, files=files)\n",
        "\n",
        "print(\"Music recognition complete, displaying results:\")\n",
        "diction = result.json()\n",
        "for i in range(len(diction['result'])) :\n",
        "  for songs in diction['result'][i]['songs'] :\n",
        "    print(\"Song:\", songs['title'], \n",
        "        \"|| Artist:\", songs['artist'], \n",
        "        \"|| Album:\", songs['album'], \n",
        "        \"|| Link:\", songs['song_link'])"
      ],
      "metadata": {
        "id": "Ca1WzmXzRpRX",
        "colab": {
          "base_uri": "https://localhost:8080/"
        },
        "outputId": "c3c0dfe8-a486-4e2c-b9b8-33235528e8ca"
      },
      "execution_count": 52,
      "outputs": [
        {
          "output_type": "stream",
          "name": "stdout",
          "text": [
            "Running music recognition...\n",
            "Music recognition complete, displaying results:\n",
            "Song: The Circle Game || Artist: Joni Mitchell || Album: The Circle Game || Link: https://lis.tn/TheCircleGame\n",
            "Song: The Circle Game || Artist: Joni Mitchell || Album: Ladies of the Canyon || Link: https://lis.tn/czxhZT\n",
            "Song: The Circle Game (2021 Remaster) || Artist: Joni Mitchell || Album: The Circle Game (2021 Remaster) || Link: https://lis.tn/lTeVd\n",
            "Song: The Circle Game || Artist: Joni Mitchell || Album: Ladies of the Canyon || Link: https://lis.tn/czxhZT\n",
            "Song: The Circle Game || Artist: Joni Mitchell || Album: The Circle Game || Link: https://lis.tn/TheCircleGame\n",
            "Song: The Circle Game || Artist: Joni Mitchell || Album: Ladies of the Canyon || Link: https://lis.tn/czxhZT\n",
            "Song: The Circle Game (2021 Remaster) || Artist: Joni Mitchell || Album: The Circle Game (2021 Remaster) || Link: https://lis.tn/lTeVd\n",
            "Song: The Circle Game (2021 Remaster) || Artist: Joni Mitchell || Album: The Circle Game (2021 Remaster) || Link: https://lis.tn/lTeVd\n",
            "Song: The Circle Game || Artist: Joni Mitchell || Album: The Circle Game || Link: https://lis.tn/TheCircleGame\n",
            "Song: The Circle Game || Artist: Joni Mitchell || Album: Ladies of the Canyon || Link: https://lis.tn/czxhZT\n",
            "Song: Nocturnes, Op. 27: No. 2 in D-Flat Major || Artist: Arthur Rubinstein || Album: The Chopin Collection || Link: https://lis.tn/encJY\n",
            "Song: Both Sides Now || Artist: Joni Mitchell || Album: Easy Acoustic || Link: https://lis.tn/HECuzk\n",
            "Song: Both Sides Now || Artist: Joni Mitchell || Album: Easy Acoustic || Link: https://lis.tn/HECuzk\n",
            "Song: Both Sides Now || Artist: Joni Mitchell || Album: Easy Acoustic || Link: https://lis.tn/HECuzk\n",
            "Song: Both Sides Now || Artist: Joni Mitchell || Album: Easy Acoustic || Link: https://lis.tn/HECuzk\n",
            "Song: Both Sides Now || Artist: Joni Mitchell || Album: Easy Acoustic || Link: https://lis.tn/HECuzk\n",
            "Song: Both Sides Now || Artist: Joni Mitchell || Album: Easy Acoustic || Link: https://lis.tn/HECuzk\n",
            "Song: Breaths || Artist: Sweet Honey In The Rock || Album: Breaths || Link: https://lis.tn/GVzcqd\n",
            "Song: Breaths || Artist: Sweet Honey In The Rock || Album: Breaths || Link: https://lis.tn/GVzcqd\n",
            "Song: Breaths || Artist: Sweet Honey In The Rock || Album: Breaths || Link: https://lis.tn/GVzcqd\n",
            "Song: Breaths || Artist: Sweet Honey In The Rock || Album: Breaths || Link: https://lis.tn/GVzcqd\n",
            "Song: Breaths || Artist: Sweet Honey In The Rock || Album: Breaths || Link: https://lis.tn/GVzcqd\n",
            "Song: Om Namah Shivaaya || Artist: Russill Paul || Album: Shakti: Tantric Embrace || Link: https://lis.tn/KKRCRB\n",
            "Song: Om Namah Shivaaya || Artist: Russill Paul || Album: Healing Music Project Awakening || Link: https://lis.tn/OmNamahShivaaya\n",
            "Song: Om Namah Shivaaya || Artist: Russill Paul || Album: Shakti: Tantric Embrace || Link: https://lis.tn/KKRCRB\n"
          ]
        }
      ]
    },
    {
      "cell_type": "code",
      "source": [
        "for i in range(len(diction['result'])) :\n",
        "  for songs in diction['result'][i]['songs'] :\n",
        "    print(\"Song:\", songs['title'], \n",
        "        \"|| Artist:\", songs['artist'], \"|| Album:\", songs['album'], \n",
        "        \"|| Link:\", songs['song_link'])"
      ],
      "metadata": {
        "colab": {
          "base_uri": "https://localhost:8080/"
        },
        "id": "zxPGgB70hZE6",
        "outputId": "55356498-8690-4dd2-daf5-4cfcc232ec6f"
      },
      "execution_count": 53,
      "outputs": [
        {
          "output_type": "stream",
          "name": "stdout",
          "text": [
            "Song: The Circle Game || Artist: Joni Mitchell || Album: The Circle Game || Link: https://lis.tn/TheCircleGame\n",
            "Song: The Circle Game || Artist: Joni Mitchell || Album: Ladies of the Canyon || Link: https://lis.tn/czxhZT\n",
            "Song: The Circle Game (2021 Remaster) || Artist: Joni Mitchell || Album: The Circle Game (2021 Remaster) || Link: https://lis.tn/lTeVd\n",
            "Song: The Circle Game || Artist: Joni Mitchell || Album: Ladies of the Canyon || Link: https://lis.tn/czxhZT\n",
            "Song: The Circle Game || Artist: Joni Mitchell || Album: The Circle Game || Link: https://lis.tn/TheCircleGame\n",
            "Song: The Circle Game || Artist: Joni Mitchell || Album: Ladies of the Canyon || Link: https://lis.tn/czxhZT\n",
            "Song: The Circle Game (2021 Remaster) || Artist: Joni Mitchell || Album: The Circle Game (2021 Remaster) || Link: https://lis.tn/lTeVd\n",
            "Song: The Circle Game (2021 Remaster) || Artist: Joni Mitchell || Album: The Circle Game (2021 Remaster) || Link: https://lis.tn/lTeVd\n",
            "Song: The Circle Game || Artist: Joni Mitchell || Album: The Circle Game || Link: https://lis.tn/TheCircleGame\n",
            "Song: The Circle Game || Artist: Joni Mitchell || Album: Ladies of the Canyon || Link: https://lis.tn/czxhZT\n",
            "Song: Nocturnes, Op. 27: No. 2 in D-Flat Major || Artist: Arthur Rubinstein || Album: The Chopin Collection || Link: https://lis.tn/encJY\n",
            "Song: Both Sides Now || Artist: Joni Mitchell || Album: Easy Acoustic || Link: https://lis.tn/HECuzk\n",
            "Song: Both Sides Now || Artist: Joni Mitchell || Album: Easy Acoustic || Link: https://lis.tn/HECuzk\n",
            "Song: Both Sides Now || Artist: Joni Mitchell || Album: Easy Acoustic || Link: https://lis.tn/HECuzk\n",
            "Song: Both Sides Now || Artist: Joni Mitchell || Album: Easy Acoustic || Link: https://lis.tn/HECuzk\n",
            "Song: Both Sides Now || Artist: Joni Mitchell || Album: Easy Acoustic || Link: https://lis.tn/HECuzk\n",
            "Song: Both Sides Now || Artist: Joni Mitchell || Album: Easy Acoustic || Link: https://lis.tn/HECuzk\n",
            "Song: Breaths || Artist: Sweet Honey In The Rock || Album: Breaths || Link: https://lis.tn/GVzcqd\n",
            "Song: Breaths || Artist: Sweet Honey In The Rock || Album: Breaths || Link: https://lis.tn/GVzcqd\n",
            "Song: Breaths || Artist: Sweet Honey In The Rock || Album: Breaths || Link: https://lis.tn/GVzcqd\n",
            "Song: Breaths || Artist: Sweet Honey In The Rock || Album: Breaths || Link: https://lis.tn/GVzcqd\n",
            "Song: Breaths || Artist: Sweet Honey In The Rock || Album: Breaths || Link: https://lis.tn/GVzcqd\n",
            "Song: Om Namah Shivaaya || Artist: Russill Paul || Album: Shakti: Tantric Embrace || Link: https://lis.tn/KKRCRB\n",
            "Song: Om Namah Shivaaya || Artist: Russill Paul || Album: Healing Music Project Awakening || Link: https://lis.tn/OmNamahShivaaya\n",
            "Song: Om Namah Shivaaya || Artist: Russill Paul || Album: Shakti: Tantric Embrace || Link: https://lis.tn/KKRCRB\n"
          ]
        }
      ]
    }
  ]
}