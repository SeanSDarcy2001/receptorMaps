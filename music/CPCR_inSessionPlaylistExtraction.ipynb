{
  "nbformat": 4,
  "nbformat_minor": 0,
  "metadata": {
    "colab": {
      "provenance": [],
      "include_colab_link": true
    },
    "kernelspec": {
      "name": "python3",
      "display_name": "Python 3"
    },
    "language_info": {
      "name": "python"
    }
  },
  "cells": [
    {
      "cell_type": "markdown",
      "metadata": {
        "id": "view-in-github",
        "colab_type": "text"
      },
      "source": [
        "<a href=\"https://colab.research.google.com/github/SeanSDarcy2001/receptorMaps/blob/main/music/CPCR_inSessionPlaylistExtraction.ipynb\" target=\"_parent\"><img src=\"https://colab.research.google.com/assets/colab-badge.svg\" alt=\"Open In Colab\"/></a>"
      ]
    },
    {
      "cell_type": "markdown",
      "source": [
        "Imports and API token definition, filePaths"
      ],
      "metadata": {
        "id": "1qO6U4ChR3wd"
      }
    },
    {
      "cell_type": "code",
      "source": [
        "import requests\n",
        "token = '6981a3f98da40d92a8d5e161c1628648'\n",
        "path = 'data/audioTest.wav'"
      ],
      "metadata": {
        "id": "YiAtT4PKSBJb"
      },
      "execution_count": 32,
      "outputs": []
    },
    {
      "cell_type": "markdown",
      "source": [
        "Longer audio file/video"
      ],
      "metadata": {
        "id": "ILoGuaYERx9k"
      }
    },
    {
      "cell_type": "code",
      "source": [
        "data = {\n",
        "      'api_token': token,\n",
        "      'accurate_offsets': 'true',\n",
        "      'skip': '1',\n",
        "      'every': '1',\n",
        "  }\n",
        "files = {\n",
        "    'file': open(path, 'rb'),\n",
        "}\n",
        "print(\"Running music recognition...\")\n",
        "result = requests.post('https://enterprise.audd.io/', data=data, files=files)\n",
        "\n",
        "print(\"Music recognition complete, displaying results:\")\n",
        "diction = result.json()\n",
        "for i in range(len(diction['result'])) :\n",
        "  for songs in diction['result'][i]['songs'] :\n",
        "    print(\"Song:\", songs['title'], \n",
        "        \"|| Artist:\", songs['artist'], \n",
        "        \"|| Album:\", songs['album'], \n",
        "        \"|| Link:\", songs['song_link'])"
      ],
      "metadata": {
        "id": "Ca1WzmXzRpRX",
        "colab": {
          "base_uri": "https://localhost:8080/",
          "height": 266
        },
        "outputId": "50f45559-a8b1-4515-be1b-1e13d4751289"
      },
      "execution_count": 42,
      "outputs": [
        {
          "output_type": "stream",
          "name": "stdout",
          "text": [
            "Running music recognition...\n",
            "Music recognition complete, displaying results:\n"
          ]
        },
        {
          "output_type": "error",
          "ename": "KeyError",
          "evalue": "ignored",
          "traceback": [
            "\u001b[0;31m---------------------------------------------------------------------------\u001b[0m",
            "\u001b[0;31mKeyError\u001b[0m                                  Traceback (most recent call last)",
            "\u001b[0;32m<ipython-input-42-aa42742b9e6b>\u001b[0m in \u001b[0;36m<module>\u001b[0;34m\u001b[0m\n\u001b[1;32m     13\u001b[0m \u001b[0mprint\u001b[0m\u001b[0;34m(\u001b[0m\u001b[0;34m\"Music recognition complete, displaying results:\"\u001b[0m\u001b[0;34m)\u001b[0m\u001b[0;34m\u001b[0m\u001b[0;34m\u001b[0m\u001b[0m\n\u001b[1;32m     14\u001b[0m \u001b[0mdiction\u001b[0m \u001b[0;34m=\u001b[0m \u001b[0mresult\u001b[0m\u001b[0;34m.\u001b[0m\u001b[0mjson\u001b[0m\u001b[0;34m(\u001b[0m\u001b[0;34m)\u001b[0m\u001b[0;34m\u001b[0m\u001b[0;34m\u001b[0m\u001b[0m\n\u001b[0;32m---> 15\u001b[0;31m \u001b[0;32mfor\u001b[0m \u001b[0mi\u001b[0m \u001b[0;32min\u001b[0m \u001b[0mrange\u001b[0m\u001b[0;34m(\u001b[0m\u001b[0mlen\u001b[0m\u001b[0;34m(\u001b[0m\u001b[0mdiction\u001b[0m\u001b[0;34m[\u001b[0m\u001b[0;34m'result'\u001b[0m\u001b[0;34m]\u001b[0m\u001b[0;34m)\u001b[0m\u001b[0;34m)\u001b[0m \u001b[0;34m:\u001b[0m\u001b[0;34m\u001b[0m\u001b[0;34m\u001b[0m\u001b[0m\n\u001b[0m\u001b[1;32m     16\u001b[0m   \u001b[0;32mfor\u001b[0m \u001b[0msongs\u001b[0m \u001b[0;32min\u001b[0m \u001b[0mdiction\u001b[0m\u001b[0;34m[\u001b[0m\u001b[0;34m'result'\u001b[0m\u001b[0;34m]\u001b[0m\u001b[0;34m[\u001b[0m\u001b[0mi\u001b[0m\u001b[0;34m]\u001b[0m\u001b[0;34m[\u001b[0m\u001b[0;34m'songs'\u001b[0m\u001b[0;34m]\u001b[0m \u001b[0;34m:\u001b[0m\u001b[0;34m\u001b[0m\u001b[0;34m\u001b[0m\u001b[0m\n\u001b[1;32m     17\u001b[0m     print(\"Song:\", songs['title'], \n",
            "\u001b[0;31mKeyError\u001b[0m: 'result'"
          ]
        }
      ]
    },
    {
      "cell_type": "code",
      "source": [
        "diction = result.json()"
      ],
      "metadata": {
        "id": "ZZDSWwmdgfSy"
      },
      "execution_count": 43,
      "outputs": []
    },
    {
      "cell_type": "code",
      "source": [
        "print(result.text)"
      ],
      "metadata": {
        "id": "qXpPfJLyijqt",
        "outputId": "d2282229-07c0-4941-bfed-9444e6e1f97c",
        "colab": {
          "base_uri": "https://localhost:8080/"
        }
      },
      "execution_count": 46,
      "outputs": [
        {
          "output_type": "stream",
          "name": "stdout",
          "text": [
            "{\"status\":\"error\",\"error\":{\"error_code\":902,\"error_message\":\"Recognition failed: authorization failed: the limit was reached.\"},\"requested_params\":{\"method\":\"recognize\",\"accurate_offsets\":\"true\",\"skip\":\"1\",\"every\":\"1\"},\"see api documentation\":\"https://docs.audd.io\",\"contact us\":\"api@audd.io\",\"execution_time\":\"40.255716207s\"}\n"
          ]
        }
      ]
    },
    {
      "cell_type": "code",
      "source": [
        "for i in range(len(diction['result'])) :\n",
        "  for songs in diction['result'][i]['songs'] :\n",
        "    print(\"Timecode:\", songs['timecode'], \"|| Song:\", songs['title'], \n",
        "        \"|| Artist:\", songs['artist'], \"|| Album:\", songs['album'], \n",
        "        \"|| Link:\", songs['song_link'])"
      ],
      "metadata": {
        "id": "zxPGgB70hZE6",
        "outputId": "a34cbd70-5283-4c85-c207-3bf2b8a57536",
        "colab": {
          "base_uri": "https://localhost:8080/"
        }
      },
      "execution_count": 38,
      "outputs": [
        {
          "output_type": "stream",
          "name": "stdout",
          "text": [
            "Timecode: 00:44 || Song: The Circle Game || Artist: Joni Mitchell || Album: The Circle Game || Link: https://lis.tn/TheCircleGame\n",
            "Timecode: 00:43 || Song: The Circle Game || Artist: Joni Mitchell || Album: Ladies of the Canyon || Link: https://lis.tn/czxhZT\n",
            "Timecode: 00:43 || Song: The Circle Game (2021 Remaster) || Artist: Joni Mitchell || Album: The Circle Game (2021 Remaster) || Link: https://lis.tn/lTeVd\n",
            "Timecode: 01:08 || Song: The Circle Game || Artist: Joni Mitchell || Album: The Circle Game || Link: https://lis.tn/TheCircleGame\n",
            "Timecode: 01:08 || Song: The Circle Game || Artist: Joni Mitchell || Album: Ladies of the Canyon || Link: https://lis.tn/czxhZT\n",
            "Timecode: 01:07 || Song: The Circle Game (2021 Remaster) || Artist: Joni Mitchell || Album: The Circle Game (2021 Remaster) || Link: https://lis.tn/lTeVd\n",
            "Timecode: 01:31 || Song: The Circle Game || Artist: Joni Mitchell || Album: Ladies of the Canyon || Link: https://lis.tn/czxhZT\n",
            "Timecode: 01:56 || Song: The Circle Game || Artist: Joni Mitchell || Album: The Circle Game || Link: https://lis.tn/TheCircleGame\n",
            "Timecode: 01:57 || Song: The Circle Game (2004 Remaster) || Artist: Joni Mitchell || Album: Dreamland || Link: https://lis.tn/XFpRx\n",
            "Timecode: 01:55 || Song: The Circle Game (2021 Remaster) || Artist: Joni Mitchell || Album: The Circle Game (2021 Remaster) || Link: https://lis.tn/lTeVd\n",
            "Timecode: 02:20 || Song: The Circle Game || Artist: Joni Mitchell || Album: The Circle Game || Link: https://lis.tn/TheCircleGame\n",
            "Timecode: 02:19 || Song: The Circle Game || Artist: Joni Mitchell || Album: Ladies of the Canyon || Link: https://lis.tn/czxhZT\n",
            "Timecode: 02:19 || Song: The Circle Game (2021 Remaster) || Artist: Joni Mitchell || Album: The Circle Game (2021 Remaster) || Link: https://lis.tn/lTeVd\n",
            "Timecode: 02:44 || Song: The Circle Game || Artist: Joni Mitchell || Album: The Circle Game || Link: https://lis.tn/TheCircleGame\n",
            "Timecode: 02:43 || Song: The Circle Game || Artist: Joni Mitchell || Album: Ladies of the Canyon || Link: https://lis.tn/czxhZT\n",
            "Timecode: 03:32 || Song: The Circle Game || Artist: Joni Mitchell || Album: The Circle Game || Link: https://lis.tn/TheCircleGame\n",
            "Timecode: 03:55 || Song: The Circle Game (2021 Remaster) || Artist: Joni Mitchell || Album: The Circle Game (2021 Remaster) || Link: https://lis.tn/lTeVd\n",
            "Timecode: 04:20 || Song: The Circle Game || Artist: Joni Mitchell || Album: The Circle Game || Link: https://lis.tn/TheCircleGame\n",
            "Timecode: 04:19 || Song: The Circle Game || Artist: Joni Mitchell || Album: Ladies of the Canyon || Link: https://lis.tn/czxhZT\n",
            "Timecode: 04:20 || Song: The Circle Game (2021 Remaster) || Artist: Joni Mitchell || Album: The Circle Game (2021 Remaster) || Link: https://lis.tn/lTeVd\n",
            "Timecode: 04:44 || Song: The Circle Game || Artist: Joni Mitchell || Album: The Circle Game || Link: https://lis.tn/TheCircleGame\n",
            "Timecode: 04:43 || Song: The Circle Game || Artist: Joni Mitchell || Album: Ladies of the Canyon || Link: https://lis.tn/czxhZT\n",
            "Timecode: 05:03 || Song: Andante spianato et Grande polonaise brillante in E-Flat Major, Op. 22 || Artist: Arthur Rubinstein || Album: The Best of Chopin || Link: https://lis.tn/niqIr\n",
            "Timecode: 01:07 || Song: Nocturnes, Op. 27: No. 2 in D-Flat Major || Artist: Arthur Rubinstein || Album: The Chopin Collection || Link: https://lis.tn/encJY\n",
            "Timecode: 02:19 || Song: Nocturnes, Op. 27: No. 2 in D-Flat Major || Artist: Arthur Rubinstein || Album: The Chopin Collection || Link: https://lis.tn/encJY\n",
            "Timecode: 04:19 || Song: Nocturnes, Op. 27: No. 2 in D-Flat Major || Artist: Arthur Rubinstein || Album: The Chopin Collection || Link: https://lis.tn/encJY\n",
            "Timecode: 00:04 || Song: Both Sides Now || Artist: Joni Mitchell || Album: Easy Acoustic || Link: https://lis.tn/HECuzk\n",
            "Timecode: 00:28 || Song: Both Sides Now || Artist: Joni Mitchell || Album: Easy Acoustic || Link: https://lis.tn/HECuzk\n",
            "Timecode: 00:52 || Song: Both Sides Now || Artist: Joni Mitchell || Album: Easy Acoustic || Link: https://lis.tn/HECuzk\n",
            "Timecode: 02:27 || Song: Both Sides Now || Artist: Joni Mitchell || Album: Easy Acoustic || Link: https://lis.tn/HECuzk\n",
            "Timecode: 01:39 || Song: Both Sides Now || Artist: Joni Mitchell || Album: Easy Acoustic || Link: https://lis.tn/HECuzk\n",
            "Timecode: 02:03 || Song: Both Sides Now || Artist: Joni Mitchell || Album: Easy Acoustic || Link: https://lis.tn/HECuzk\n",
            "Timecode: 02:27 || Song: Both Sides Now || Artist: Joni Mitchell || Album: Easy Acoustic || Link: https://lis.tn/HECuzk\n",
            "Timecode: 02:51 || Song: Both Sides Now || Artist: Joni Mitchell || Album: Easy Acoustic || Link: https://lis.tn/HECuzk\n",
            "Timecode: 03:15 || Song: Both Sides Now || Artist: Joni Mitchell || Album: Easy Acoustic || Link: https://lis.tn/HECuzk\n",
            "Timecode: 04:03 || Song: Both Sides Now || Artist: Joni Mitchell || Album: Easy Acoustic || Link: https://lis.tn/HECuzk\n",
            "Timecode: 04:22 || Song: Both Sides Now || Artist: Joni Mitchell || Album: Easy Acoustic || Link: https://lis.tn/HECuzk\n",
            "Timecode: 00:44 || Song: Breaths || Artist: Sweet Honey In The Rock || Album: Breaths || Link: https://lis.tn/GVzcqd\n",
            "Timecode: 01:08 || Song: Breaths || Artist: Sweet Honey In The Rock || Album: Breaths || Link: https://lis.tn/GVzcqd\n",
            "Timecode: 01:08 || Song: Breaths || Artist: Sweet Honey In The Rock || Album: Breaths || Link: https://lis.tn/GVzcqd\n",
            "Timecode: 01:32 || Song: Breaths || Artist: Sweet Honey In The Rock || Album: Breaths || Link: https://lis.tn/GVzcqd\n",
            "Timecode: 01:56 || Song: Breaths || Artist: Sweet Honey In The Rock || Album: Breaths || Link: https://lis.tn/GVzcqd\n",
            "Timecode: 02:20 || Song: Breaths || Artist: Sweet Honey In The Rock || Album: Breaths || Link: https://lis.tn/GVzcqd\n",
            "Timecode: 03:33 || Song: Breaths || Artist: Sweet Honey In The Rock || Album: Breaths || Link: https://lis.tn/GVzcqd\n",
            "Timecode: 03:33 || Song: Breaths || Artist: Sweet Honey In The Rock || Album: Breaths || Link: https://lis.tn/GVzcqd\n",
            "Timecode: 00:44 || Song: Om Namah Shivaaya || Artist: Russill Paul || Album: Shakti: Tantric Embrace || Link: https://lis.tn/KKRCRB\n",
            "Timecode: 05:08 || Song: Om Namah Shivaaya || Artist: Russill Paul || Album: Shakti: Tantric Embrace || Link: https://lis.tn/KKRCRB\n",
            "Timecode: 04:52 || Song: Om Namah Shivaaya || Artist: Russill Paul || Album: Healing Music Project Awakening || Link: https://lis.tn/OmNamahShivaaya\n",
            "Timecode: 06:04 || Song: Om Namah Shivaaya || Artist: Russill Paul || Album: Healing Music Project Awakening || Link: https://lis.tn/OmNamahShivaaya\n",
            "Timecode: 09:07 || Song: Om Namah Shivaaya || Artist: Russill Paul || Album: Shakti: Tantric Embrace || Link: https://lis.tn/KKRCRB\n",
            "Timecode: 09:31 || Song: Om Namah Shivaaya || Artist: Russill Paul || Album: Shakti: Tantric Embrace || Link: https://lis.tn/KKRCRB\n"
          ]
        }
      ]
    }
  ]
}