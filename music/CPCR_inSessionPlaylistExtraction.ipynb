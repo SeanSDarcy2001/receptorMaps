{
  "nbformat": 4,
  "nbformat_minor": 0,
  "metadata": {
    "colab": {
      "provenance": [],
      "authorship_tag": "ABX9TyNpVjI1agKFFo0My9gI4J7J",
      "include_colab_link": true
    },
    "kernelspec": {
      "name": "python3",
      "display_name": "Python 3"
    },
    "language_info": {
      "name": "python"
    }
  },
  "cells": [
    {
      "cell_type": "markdown",
      "metadata": {
        "id": "view-in-github",
        "colab_type": "text"
      },
      "source": [
        "<a href=\"https://colab.research.google.com/github/SeanSDarcy2001/receptorMaps/blob/main/music/CPCR_inSessionPlaylistExtraction.ipynb\" target=\"_parent\"><img src=\"https://colab.research.google.com/assets/colab-badge.svg\" alt=\"Open In Colab\"/></a>"
      ]
    },
    {
      "cell_type": "markdown",
      "source": [
        "Imports and API token definition, filePaths"
      ],
      "metadata": {
        "id": "1qO6U4ChR3wd"
      }
    },
    {
      "cell_type": "code",
      "source": [
        "import requests\n",
        "token = '8d82e2526a6ba551baf35b5f6146aa2e'"
      ],
      "metadata": {
        "id": "YiAtT4PKSBJb"
      },
      "execution_count": 2,
      "outputs": []
    },
    {
      "cell_type": "markdown",
      "source": [
        "Short audio file"
      ],
      "metadata": {
        "id": "du32DI5oRtuG"
      }
    },
    {
      "cell_type": "code",
      "execution_count": 1,
      "metadata": {
        "colab": {
          "base_uri": "https://localhost:8080/"
        },
        "id": "meIQxPAFQ9oI",
        "outputId": "2791c808-9ef4-4bc2-f2c7-186a69818bc0"
      },
      "outputs": [
        {
          "output_type": "stream",
          "name": "stdout",
          "text": [
            "{\"status\":\"success\",\"result\":{\"artist\":\"Imagine Dragons\",\"title\":\"Warriors\",\"album\":\"Warriors\",\"release_date\":\"2014-09-18\",\"label\":\"Universal Music\",\"timecode\":\"02:32\",\"song_link\":\"https://lis.tn/Warriors\",\"apple_music\":{\"previews\":[{\"url\":\"https://audio-ssl.itunes.apple.com/itunes-assets/AudioPreview122/v4/9e/17/48/9e1748e5-2dce-242d-e408-50491ae13a57/mzaf_3431467325459245782.plus.aac.p.m4a\"}],\"artwork\":{\"width\":1500,\"height\":1500,\"url\":\"https://is5-ssl.mzstatic.com/image/thumb/Music122/v4/b3/a8/b0/b3a8b05f-7dfe-f557-6147-57e74dfdbebe/15UMGIM53209.rgb.jpg/{w}x{h}bb.jpg\",\"bgColor\":\"7f5614\",\"textColor1\":\"ffe2aa\",\"textColor2\":\"f1cb86\",\"textColor3\":\"e5c68c\",\"textColor4\":\"dab46f\"},\"artistName\":\"Imagine Dragons\",\"url\":\"https://music.apple.com/us/album/warriors/1440831203?app=music\\u0026at=1000l33QU\\u0026i=1440831624\\u0026mt=1\",\"discNumber\":1,\"genreNames\":[\"Alternative\",\"Music\"],\"durationInMillis\":170799,\"releaseDate\":\"2014-09-18\",\"name\":\"Warriors\",\"isrc\":\"USUM71414163\",\"albumName\":\"Smoke + Mirrors (Deluxe)\",\"playParams\":{\"id\":\"1440831624\",\"kind\":\"song\"},\"trackNumber\":18,\"composerName\":\"Josh Mosser, A. Grant, Dan Reynolds, Wayne Sermon, Ben McKee \\u0026 Daniel Platzman\"},\"spotify\":{\"album\":{\"name\":\"Smoke + Mirrors (Deluxe)\",\"artists\":[{\"name\":\"Imagine Dragons\",\"id\":\"53XhwfbYqKCa1cC15pYq2q\",\"uri\":\"spotify:artist:53XhwfbYqKCa1cC15pYq2q\",\"href\":\"https://api.spotify.com/v1/artists/53XhwfbYqKCa1cC15pYq2q\",\"external_urls\":{\"spotify\":\"https://open.spotify.com/artist/53XhwfbYqKCa1cC15pYq2q\"}}],\"album_group\":\"\",\"album_type\":\"album\",\"id\":\"6rRFeV6xigfNyPoZ6YqcoW\",\"uri\":\"spotify:album:6rRFeV6xigfNyPoZ6YqcoW\",\"available_markets\":[\"AD\",\"AE\",\"AG\",\"AL\",\"AM\",\"AO\",\"AR\",\"AT\",\"AU\",\"AZ\",\"BA\",\"BB\",\"BD\",\"BE\",\"BF\",\"BG\",\"BH\",\"BI\",\"BJ\",\"BN\",\"BO\",\"BR\",\"BS\",\"BT\",\"BW\",\"BY\",\"BZ\",\"CD\",\"CG\",\"CH\",\"CI\",\"CL\",\"CM\",\"CO\",\"CR\",\"CV\",\"CW\",\"CY\",\"CZ\",\"DE\",\"DJ\",\"DK\",\"DM\",\"DO\",\"DZ\",\"EC\",\"EE\",\"EG\",\"ES\",\"FI\",\"FJ\",\"FM\",\"FR\",\"GA\",\"GB\",\"GD\",\"GE\",\"GH\",\"GM\",\"GN\",\"GQ\",\"GR\",\"GT\",\"GW\",\"GY\",\"HK\",\"HN\",\"HR\",\"HT\",\"HU\",\"ID\",\"IE\",\"IL\",\"IN\",\"IQ\",\"IS\",\"IT\",\"JM\",\"JO\",\"JP\",\"KE\",\"KG\",\"KH\",\"KI\",\"KM\",\"KN\",\"KR\",\"KW\",\"KZ\",\"LA\",\"LB\",\"LC\",\"LI\",\"LK\",\"LR\",\"LS\",\"LT\",\"LU\",\"LV\",\"LY\",\"MA\",\"MC\",\"MD\",\"ME\",\"MG\",\"MH\",\"MK\",\"ML\",\"MN\",\"MO\",\"MR\",\"MT\",\"MU\",\"MV\",\"MW\",\"MX\",\"MY\",\"MZ\",\"NA\",\"NE\",\"NG\",\"NI\",\"NL\",\"NO\",\"NP\",\"NR\",\"NZ\",\"OM\",\"PA\",\"PE\",\"PG\",\"PH\",\"PK\",\"PL\",\"PS\",\"PT\",\"PW\",\"PY\",\"QA\",\"RO\",\"RS\",\"RW\",\"SA\",\"SB\",\"SC\",\"SE\",\"SG\",\"SI\",\"SK\",\"SL\",\"SM\",\"SN\",\"SR\",\"ST\",\"SV\",\"SZ\",\"TD\",\"TG\",\"TH\",\"TJ\",\"TL\",\"TN\",\"TO\",\"TR\",\"TT\",\"TV\",\"TW\",\"TZ\",\"UA\",\"UG\",\"UY\",\"UZ\",\"VC\",\"VE\",\"VN\",\"VU\",\"WS\",\"XK\",\"ZA\",\"ZM\",\"ZW\"],\"href\":\"https://api.spotify.com/v1/albums/6rRFeV6xigfNyPoZ6YqcoW\",\"images\":[{\"height\":640,\"width\":640,\"url\":\"https://i.scdn.co/image/ab67616d0000b273fc4fd5caca9f1dc4a3b0460a\"},{\"height\":300,\"width\":300,\"url\":\"https://i.scdn.co/image/ab67616d00001e02fc4fd5caca9f1dc4a3b0460a\"},{\"height\":64,\"width\":64,\"url\":\"https://i.scdn.co/image/ab67616d00004851fc4fd5caca9f1dc4a3b0460a\"}],\"external_urls\":{\"spotify\":\"https://open.spotify.com/album/6rRFeV6xigfNyPoZ6YqcoW\"},\"release_date\":\"2015-05-18\",\"release_date_precision\":\"day\"},\"external_ids\":{\"isrc\":\"USUM71414163\"},\"popularity\":73,\"is_playable\":null,\"linked_from\":null,\"artists\":[{\"name\":\"Imagine Dragons\",\"id\":\"53XhwfbYqKCa1cC15pYq2q\",\"uri\":\"spotify:artist:53XhwfbYqKCa1cC15pYq2q\",\"href\":\"https://api.spotify.com/v1/artists/53XhwfbYqKCa1cC15pYq2q\",\"external_urls\":{\"spotify\":\"https://open.spotify.com/artist/53XhwfbYqKCa1cC15pYq2q\"}}],\"available_markets\":[\"AD\",\"AE\",\"AG\",\"AL\",\"AM\",\"AO\",\"AR\",\"AT\",\"AU\",\"AZ\",\"BA\",\"BB\",\"BD\",\"BE\",\"BF\",\"BG\",\"BH\",\"BI\",\"BJ\",\"BN\",\"BO\",\"BR\",\"BS\",\"BT\",\"BW\",\"BY\",\"BZ\",\"CD\",\"CG\",\"CH\",\"CI\",\"CL\",\"CM\",\"CO\",\"CR\",\"CV\",\"CW\",\"CY\",\"CZ\",\"DE\",\"DJ\",\"DK\",\"DM\",\"DO\",\"DZ\",\"EC\",\"EE\",\"EG\",\"ES\",\"FI\",\"FJ\",\"FM\",\"FR\",\"GA\",\"GB\",\"GD\",\"GE\",\"GH\",\"GM\",\"GN\",\"GQ\",\"GR\",\"GT\",\"GW\",\"GY\",\"HK\",\"HN\",\"HR\",\"HT\",\"HU\",\"ID\",\"IE\",\"IL\",\"IN\",\"IQ\",\"IS\",\"IT\",\"JM\",\"JO\",\"JP\",\"KE\",\"KG\",\"KH\",\"KI\",\"KM\",\"KN\",\"KR\",\"KW\",\"KZ\",\"LA\",\"LB\",\"LC\",\"LI\",\"LK\",\"LR\",\"LS\",\"LT\",\"LU\",\"LV\",\"LY\",\"MA\",\"MC\",\"MD\",\"ME\",\"MG\",\"MH\",\"MK\",\"ML\",\"MN\",\"MO\",\"MR\",\"MT\",\"MU\",\"MV\",\"MW\",\"MX\",\"MY\",\"MZ\",\"NA\",\"NE\",\"NG\",\"NI\",\"NL\",\"NO\",\"NP\",\"NR\",\"NZ\",\"OM\",\"PA\",\"PE\",\"PG\",\"PH\",\"PK\",\"PL\",\"PS\",\"PT\",\"PW\",\"PY\",\"QA\",\"RO\",\"RS\",\"RW\",\"SA\",\"SB\",\"SC\",\"SE\",\"SG\",\"SI\",\"SK\",\"SL\",\"SM\",\"SN\",\"SR\",\"ST\",\"SV\",\"SZ\",\"TD\",\"TG\",\"TH\",\"TJ\",\"TL\",\"TN\",\"TO\",\"TR\",\"TT\",\"TV\",\"TW\",\"TZ\",\"UA\",\"UG\",\"UY\",\"UZ\",\"VC\",\"VE\",\"VN\",\"VU\",\"WS\",\"XK\",\"ZA\",\"ZM\",\"ZW\"],\"disc_number\":1,\"duration_ms\":171040,\"explicit\":false,\"external_urls\":{\"spotify\":\"https://open.spotify.com/track/1sWeSMifj6Z6kZyI6z3bRc\"},\"href\":\"https://api.spotify.com/v1/tracks/1sWeSMifj6Z6kZyI6z3bRc\",\"id\":\"1sWeSMifj6Z6kZyI6z3bRc\",\"name\":\"Warriors\",\"preview_url\":\"\",\"track_number\":18,\"uri\":\"spotify:track:1sWeSMifj6Z6kZyI6z3bRc\"}}}\n"
          ]
        }
      ],
      "source": [
        "import requests\n",
        "data = {\n",
        "    'api_token': token,\n",
        "    'url': 'https://audd.tech/example.mp3',\n",
        "    'return': 'apple_music,spotify',\n",
        "}\n",
        "result = requests.post('https://api.audd.io/', data=data)\n",
        "print(result.text)"
      ]
    },
    {
      "cell_type": "markdown",
      "source": [
        "Longer audio file/video"
      ],
      "metadata": {
        "id": "ILoGuaYERx9k"
      }
    },
    {
      "cell_type": "code",
      "source": [
        "data = {\n",
        "    'api_token': token,\n",
        "    'url': 'https://audd.tech/djatwork_example.mp3',\n",
        "    'accurate_offsets': 'true',\n",
        "    'skip': '3',\n",
        "    'every': '1',\n",
        "}\n",
        "result = requests.post('https://enterprise.audd.io/', data=data)\n",
        "print(result.text)"
      ],
      "metadata": {
        "id": "Ca1WzmXzRpRX"
      },
      "execution_count": null,
      "outputs": []
    }
  ]
}